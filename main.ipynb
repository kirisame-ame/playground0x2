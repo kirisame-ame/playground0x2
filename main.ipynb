{
 "cells": [
  {
   "cell_type": "markdown",
   "metadata": {},
   "source": [
    "# Initialization"
   ]
  },
  {
   "cell_type": "code",
   "execution_count": 1,
   "metadata": {},
   "outputs": [],
   "source": [
    "import pandas as pd\n",
    "import numpy as np\n",
    "import matplotlib.pyplot as plt\n",
    "import seaborn as sns\n",
    "import os"
   ]
  },
  {
   "cell_type": "code",
   "execution_count": 4,
   "metadata": {},
   "outputs": [],
   "source": [
    "PATH = \"data\"\n",
    "train = pd.read_csv(os.path.join(PATH, \"train.csv\"))\n",
    "test = pd.read_csv(os.path.join(PATH, \"test.csv\"))"
   ]
  },
  {
   "cell_type": "markdown",
   "metadata": {},
   "source": [
    "# Data Statistics"
   ]
  },
  {
   "cell_type": "code",
   "execution_count": 5,
   "metadata": {},
   "outputs": [
    {
     "data": {
      "application/vnd.microsoft.datawrangler.viewer.v0+json": {
       "columns": [
        {
         "name": "index",
         "rawType": "int64",
         "type": "integer"
        },
        {
         "name": "ID",
         "rawType": "object",
         "type": "string"
        },
        {
         "name": "text",
         "rawType": "object",
         "type": "string"
        },
        {
         "name": "label",
         "rawType": "object",
         "type": "string"
        }
       ],
       "conversionMethod": "pd.DataFrame",
       "ref": "ea77041d-a632-47fb-a97c-15bf71e58250",
       "rows": [
        [
         "0",
         "TXT00000",
         "RT Semua histeris! Puluhan ribu masyarakat Minangkabau menghadiri kampanye Akbar pak Anies di halaman GOR H. Agus Salim Padang, Sumatera Barat. https://t.co/2QIcUC9ZJg [RE Elz4m_]",
         "Politik"
        ],
        [
         "1",
         "TXT00001",
         "Prabowo, pahlawan tanpa tanda jasa yang selalu hadir di saat dibutuhkan. #02UntukMelanjutkan BuktiNyata TiadaHenti https://t.co/zzk0wjfmfd",
         "Politik"
        ],
        [
         "2",
         "TXT00002",
         "Usai Debat, Prabowo Kecewa dengan Narasi Anies dan Ganjar soal Pertahanan, Sebut Banyak Data yang Salah https://t.co/7lhdJxaAMU - 07/01/2024, 23:18 WIB Me : Saya setuju dengan Pak #Prabowo2024 dan dalam hal ini Pak Anies dan Pak Ganjar bersikap seperti Anggota Dewan Komisi I DPR yang sedang hearing { dengar pendapat } dengan Menteri Pertahanan dengan meminta agar dialog diadakan terbuka untuk umum padahal Menurut Menteri Pertahanan untuk urusan yang satu ini, tidak bisa dibuka di depan publik alias RAHASIA. Wajar jika pertanyaan dari kubu 01 dan 03 dinilai oleh beliau TIDAK BERKUALITAS alias BERKELAS dan BANYAK KEKELIRUANNYA Begini cuplikan Artikel nya: Ã¢Â€ÂœSaya agak-agak sedikit kecewa dengan kualitas, terutama narasi yang disampaikan oleh paslon-paslon yang lain. Menurut saya mereka pertama datanya banyak yang salah, keliru,Ã¢Â€Â kata Prabowo selepas debat di Istora Senayan, Jakarta Pusat, Minggu (7/1/2024). Ã¢Â€ÂœPertahanan adalah sakral, dan tadi kalau tidak salah, ada paslon yang mengatakan untuk pertahanan tidak ada rahasia. Saya kira ini sangat lucu, ini sangat tidak pantas bagi seorang pemimpin. Justru masalah pertahanan, keamanan, itu sarat dengan hal-hal rahasia,Ã¢Â€Â tutur Menteri Pertahanan RI itu. Salam Dua Jari Ã¢ÂœÂŒÃ¯Â¸Â dari Pak Prabowo Subianto Djojohadikusumo untuk Indonesia",
         "Pertahanan dan Keamanan"
        ],
        [
         "3",
         "TXT00003",
         "RT \"Di belakang kita ini banyak tongkang batubara lewat namun di depan kita masih banyak warga yang miskin...\" ~ by Anies Baswedan https://t.co/IwpnhXBfiZ [RE BosPurwa]",
         "Sosial Budaya"
        ],
        [
         "4",
         "TXT00004",
         "RT Pungli tak dapat berkembang di bawah kendali Ganjar Pranowo. Bersama-sama, kita lawan korupsi dan wujudkan pemerintahan yang adil.#GanjarMahfudRebound #GanjarPranowoPilihanUmat #JNK https://t.co/Ps87KLpg9w [RE averiexx]",
         "Politik"
        ]
       ],
       "shape": {
        "columns": 3,
        "rows": 5
       }
      },
      "text/html": [
       "<div>\n",
       "<style scoped>\n",
       "    .dataframe tbody tr th:only-of-type {\n",
       "        vertical-align: middle;\n",
       "    }\n",
       "\n",
       "    .dataframe tbody tr th {\n",
       "        vertical-align: top;\n",
       "    }\n",
       "\n",
       "    .dataframe thead th {\n",
       "        text-align: right;\n",
       "    }\n",
       "</style>\n",
       "<table border=\"1\" class=\"dataframe\">\n",
       "  <thead>\n",
       "    <tr style=\"text-align: right;\">\n",
       "      <th></th>\n",
       "      <th>ID</th>\n",
       "      <th>text</th>\n",
       "      <th>label</th>\n",
       "    </tr>\n",
       "  </thead>\n",
       "  <tbody>\n",
       "    <tr>\n",
       "      <th>0</th>\n",
       "      <td>TXT00000</td>\n",
       "      <td>RT Semua histeris! Puluhan ribu masyarakat Min...</td>\n",
       "      <td>Politik</td>\n",
       "    </tr>\n",
       "    <tr>\n",
       "      <th>1</th>\n",
       "      <td>TXT00001</td>\n",
       "      <td>Prabowo, pahlawan tanpa tanda jasa yang selalu...</td>\n",
       "      <td>Politik</td>\n",
       "    </tr>\n",
       "    <tr>\n",
       "      <th>2</th>\n",
       "      <td>TXT00002</td>\n",
       "      <td>Usai Debat, Prabowo Kecewa dengan Narasi Anies...</td>\n",
       "      <td>Pertahanan dan Keamanan</td>\n",
       "    </tr>\n",
       "    <tr>\n",
       "      <th>3</th>\n",
       "      <td>TXT00003</td>\n",
       "      <td>RT \"Di belakang kita ini banyak tongkang batub...</td>\n",
       "      <td>Sosial Budaya</td>\n",
       "    </tr>\n",
       "    <tr>\n",
       "      <th>4</th>\n",
       "      <td>TXT00004</td>\n",
       "      <td>RT Pungli tak dapat berkembang di bawah kendal...</td>\n",
       "      <td>Politik</td>\n",
       "    </tr>\n",
       "  </tbody>\n",
       "</table>\n",
       "</div>"
      ],
      "text/plain": [
       "         ID                                               text  \\\n",
       "0  TXT00000  RT Semua histeris! Puluhan ribu masyarakat Min...   \n",
       "1  TXT00001  Prabowo, pahlawan tanpa tanda jasa yang selalu...   \n",
       "2  TXT00002  Usai Debat, Prabowo Kecewa dengan Narasi Anies...   \n",
       "3  TXT00003  RT \"Di belakang kita ini banyak tongkang batub...   \n",
       "4  TXT00004  RT Pungli tak dapat berkembang di bawah kendal...   \n",
       "\n",
       "                     label  \n",
       "0                  Politik  \n",
       "1                  Politik  \n",
       "2  Pertahanan dan Keamanan  \n",
       "3            Sosial Budaya  \n",
       "4                  Politik  "
      ]
     },
     "execution_count": 5,
     "metadata": {},
     "output_type": "execute_result"
    }
   ],
   "source": [
    "train.head()"
   ]
  },
  {
   "cell_type": "code",
   "execution_count": 6,
   "metadata": {},
   "outputs": [
    {
     "data": {
      "application/vnd.microsoft.datawrangler.viewer.v0+json": {
       "columns": [
        {
         "name": "index",
         "rawType": "int64",
         "type": "integer"
        },
        {
         "name": "ID",
         "rawType": "object",
         "type": "string"
        },
        {
         "name": "text",
         "rawType": "object",
         "type": "string"
        }
       ],
       "conversionMethod": "pd.DataFrame",
       "ref": "0b98d771-c0a1-4247-90e8-7ad25ccce0a9",
       "rows": [
        [
         "0",
         "TXT04000",
         "Hebat!! Disabilitas &amp; Emak-emak Deklarasi All in Prabowo-Gibran!! #PrabowoUntukRakyat #Prabowo #prabowosubianto #Prabowo2024 #PrabowoGibran https://t.co/XSEx4uVFJg"
        ],
        [
         "1",
         "TXT04001",
         "yang gua khawatirkan ini biaya kampanye amin dikit banget, mencapai gk ya ke pelosok pelosok. kalo masalah di kota mah bagus banget, desak anies dll. gua yakin anak muda yang waras gk milih 02. tp suara\" di pelosok kan juga banyak. hadeh kalo 02 menang bomatlah gua ama negara"
        ],
        [
         "2",
         "TXT04002",
         "Perlindungan hak pekerja migran adalah misi kemanusiaan Ganjar Pranowo. Yuk, bersama-sama kita dukung dan wujudkan misi ini!#GanjarPranowoPilihanUmat #GanjarMahfudRebound #JNK https://t.co/H0PqHnsS0B"
        ],
        [
         "3",
         "TXT04003",
         "emang cuma calon ini yang peduli sama petani dan nelayan\" lain *Ganjar Hapuskan Hutang https://t.co/my65P36XvO"
        ],
        [
         "4",
         "TXT04004",
         "RT Ini bukan cerita tentang Ganjar Mahfud, ini bukan tentang kekuasaan tapi ini tentang nasib bangsa agar kita bisa menentukan pilihan, @2+9udxP0q7Alv5h9e04lS92uaq+YNPt1Wo+b+2z0UFc= . Jgn lupa 14 Februari kita coblos no 3 utk Indonesia l3bih baik. #GanjarPresidenRakyat https://t.co/jHFKIxbq8u [RE Urrangawak]"
        ]
       ],
       "shape": {
        "columns": 2,
        "rows": 5
       }
      },
      "text/html": [
       "<div>\n",
       "<style scoped>\n",
       "    .dataframe tbody tr th:only-of-type {\n",
       "        vertical-align: middle;\n",
       "    }\n",
       "\n",
       "    .dataframe tbody tr th {\n",
       "        vertical-align: top;\n",
       "    }\n",
       "\n",
       "    .dataframe thead th {\n",
       "        text-align: right;\n",
       "    }\n",
       "</style>\n",
       "<table border=\"1\" class=\"dataframe\">\n",
       "  <thead>\n",
       "    <tr style=\"text-align: right;\">\n",
       "      <th></th>\n",
       "      <th>ID</th>\n",
       "      <th>text</th>\n",
       "    </tr>\n",
       "  </thead>\n",
       "  <tbody>\n",
       "    <tr>\n",
       "      <th>0</th>\n",
       "      <td>TXT04000</td>\n",
       "      <td>Hebat!! Disabilitas &amp;amp; Emak-emak Deklarasi ...</td>\n",
       "    </tr>\n",
       "    <tr>\n",
       "      <th>1</th>\n",
       "      <td>TXT04001</td>\n",
       "      <td>yang gua khawatirkan ini biaya kampanye amin d...</td>\n",
       "    </tr>\n",
       "    <tr>\n",
       "      <th>2</th>\n",
       "      <td>TXT04002</td>\n",
       "      <td>Perlindungan hak pekerja migran adalah misi ke...</td>\n",
       "    </tr>\n",
       "    <tr>\n",
       "      <th>3</th>\n",
       "      <td>TXT04003</td>\n",
       "      <td>emang cuma calon ini yang peduli sama petani d...</td>\n",
       "    </tr>\n",
       "    <tr>\n",
       "      <th>4</th>\n",
       "      <td>TXT04004</td>\n",
       "      <td>RT Ini bukan cerita tentang Ganjar Mahfud, ini...</td>\n",
       "    </tr>\n",
       "  </tbody>\n",
       "</table>\n",
       "</div>"
      ],
      "text/plain": [
       "         ID                                               text\n",
       "0  TXT04000  Hebat!! Disabilitas &amp; Emak-emak Deklarasi ...\n",
       "1  TXT04001  yang gua khawatirkan ini biaya kampanye amin d...\n",
       "2  TXT04002  Perlindungan hak pekerja migran adalah misi ke...\n",
       "3  TXT04003  emang cuma calon ini yang peduli sama petani d...\n",
       "4  TXT04004  RT Ini bukan cerita tentang Ganjar Mahfud, ini..."
      ]
     },
     "execution_count": 6,
     "metadata": {},
     "output_type": "execute_result"
    }
   ],
   "source": [
    "test.head()"
   ]
  },
  {
   "cell_type": "markdown",
   "metadata": {},
   "source": [
    "## Target Distribution"
   ]
  },
  {
   "cell_type": "code",
   "execution_count": 7,
   "metadata": {},
   "outputs": [
    {
     "data": {
      "text/plain": [
       "label\n",
       "Politik                    2378\n",
       "Sosial Budaya               470\n",
       "Pertahanan dan Keamanan     320\n",
       "Ideologi                    320\n",
       "Ekonomi                     294\n",
       "Sumber Daya Alam            153\n",
       "Demografi                    49\n",
       "Geografi                     16\n",
       "Name: count, dtype: int64"
      ]
     },
     "execution_count": 7,
     "metadata": {},
     "output_type": "execute_result"
    }
   ],
   "source": [
    "train['label'].value_counts()"
   ]
  },
  {
   "cell_type": "markdown",
   "metadata": {},
   "source": [
    "# Label Text Samples"
   ]
  },
  {
   "cell_type": "code",
   "execution_count": 13,
   "metadata": {},
   "outputs": [
    {
     "data": {
      "application/vnd.microsoft.datawrangler.viewer.v0+json": {
       "columns": [
        {
         "name": "index",
         "rawType": "int64",
         "type": "integer"
        },
        {
         "name": "ID",
         "rawType": "object",
         "type": "string"
        },
        {
         "name": "text",
         "rawType": "object",
         "type": "string"
        },
        {
         "name": "label",
         "rawType": "object",
         "type": "string"
        }
       ],
       "conversionMethod": "pd.DataFrame",
       "ref": "831d685e-cc89-4884-b0b3-81b7021c7a6e",
       "rows": [
        [
         "0",
         "TXT00000",
         "RT Semua histeris! Puluhan ribu masyarakat Minangkabau menghadiri kampanye Akbar pak Anies di halaman GOR H. Agus Salim Padang, Sumatera Barat. https://t.co/2QIcUC9ZJg [RE Elz4m_]",
         "Politik"
        ],
        [
         "1",
         "TXT00001",
         "Prabowo, pahlawan tanpa tanda jasa yang selalu hadir di saat dibutuhkan. #02UntukMelanjutkan BuktiNyata TiadaHenti https://t.co/zzk0wjfmfd",
         "Politik"
        ],
        [
         "4",
         "TXT00004",
         "RT Pungli tak dapat berkembang di bawah kendali Ganjar Pranowo. Bersama-sama, kita lawan korupsi dan wujudkan pemerintahan yang adil.#GanjarMahfudRebound #GanjarPranowoPilihanUmat #JNK https://t.co/Ps87KLpg9w [RE averiexx]",
         "Politik"
        ],
        [
         "6",
         "TXT00006",
         "RT Tim hukum Ganjar Mahfud bicara, bahwa seharusnya kasus @yB1SyqKF5DHkhZ5swAPmqvRSZO5CeQ9AogTfcYCxfaQ= itu yang dianggap menyebarkan hoax itu masuk dalam delik aduan. Dengan artian, yang merasa dirugikan karena sebaran @PLQmeHxLBSlyd+zLCA3s58YSLM7L8YkUcc5P6xLGeLY= itulah yang harus melaporkan. Dalam hal ini Dandim, Kapolres, Kajari dan Pj Bupati Batu bara. Biar clear. Gak dengan tiba2 ditangkap pagi2 buta. [RE Dennysiregar7]",
         "Politik"
        ],
        [
         "7",
         "TXT00007",
         "RT @qXDO3RatzAyezAxEWNT0h+YgroGl0x8Zl1AiuIjeodQ= @b7OngyspvAnmI4Ghc/LNli1GuNuyxX6mBkPCDFgsu+k= @6ZdWTiEkt6L8VscKf2pjms/JPD16wGrKp7PmXkiDSGA= Kalimat ini seolah bijak, tapi tidak tepat. Rival politik biarlah jadi oposisi, jangan diajak masuk kekuasaan namun kemudian disandera dengan aneka kepentingan. Sudah lelah kita melihat oposisi yang lemah. Keseimbangan itu penting. [RE afifahafra79]",
         "Politik"
        ]
       ],
       "shape": {
        "columns": 3,
        "rows": 5
       }
      },
      "text/html": [
       "<div>\n",
       "<style scoped>\n",
       "    .dataframe tbody tr th:only-of-type {\n",
       "        vertical-align: middle;\n",
       "    }\n",
       "\n",
       "    .dataframe tbody tr th {\n",
       "        vertical-align: top;\n",
       "    }\n",
       "\n",
       "    .dataframe thead th {\n",
       "        text-align: right;\n",
       "    }\n",
       "</style>\n",
       "<table border=\"1\" class=\"dataframe\">\n",
       "  <thead>\n",
       "    <tr style=\"text-align: right;\">\n",
       "      <th></th>\n",
       "      <th>ID</th>\n",
       "      <th>text</th>\n",
       "      <th>label</th>\n",
       "    </tr>\n",
       "  </thead>\n",
       "  <tbody>\n",
       "    <tr>\n",
       "      <th>0</th>\n",
       "      <td>TXT00000</td>\n",
       "      <td>RT Semua histeris! Puluhan ribu masyarakat Min...</td>\n",
       "      <td>Politik</td>\n",
       "    </tr>\n",
       "    <tr>\n",
       "      <th>1</th>\n",
       "      <td>TXT00001</td>\n",
       "      <td>Prabowo, pahlawan tanpa tanda jasa yang selalu...</td>\n",
       "      <td>Politik</td>\n",
       "    </tr>\n",
       "    <tr>\n",
       "      <th>4</th>\n",
       "      <td>TXT00004</td>\n",
       "      <td>RT Pungli tak dapat berkembang di bawah kendal...</td>\n",
       "      <td>Politik</td>\n",
       "    </tr>\n",
       "    <tr>\n",
       "      <th>6</th>\n",
       "      <td>TXT00006</td>\n",
       "      <td>RT Tim hukum Ganjar Mahfud bicara, bahwa sehar...</td>\n",
       "      <td>Politik</td>\n",
       "    </tr>\n",
       "    <tr>\n",
       "      <th>7</th>\n",
       "      <td>TXT00007</td>\n",
       "      <td>RT @qXDO3RatzAyezAxEWNT0h+YgroGl0x8Zl1AiuIjeod...</td>\n",
       "      <td>Politik</td>\n",
       "    </tr>\n",
       "  </tbody>\n",
       "</table>\n",
       "</div>"
      ],
      "text/plain": [
       "         ID                                               text    label\n",
       "0  TXT00000  RT Semua histeris! Puluhan ribu masyarakat Min...  Politik\n",
       "1  TXT00001  Prabowo, pahlawan tanpa tanda jasa yang selalu...  Politik\n",
       "4  TXT00004  RT Pungli tak dapat berkembang di bawah kendal...  Politik\n",
       "6  TXT00006  RT Tim hukum Ganjar Mahfud bicara, bahwa sehar...  Politik\n",
       "7  TXT00007  RT @qXDO3RatzAyezAxEWNT0h+YgroGl0x8Zl1AiuIjeod...  Politik"
      ]
     },
     "metadata": {},
     "output_type": "display_data"
    },
    {
     "data": {
      "application/vnd.microsoft.datawrangler.viewer.v0+json": {
       "columns": [
        {
         "name": "index",
         "rawType": "int64",
         "type": "integer"
        },
        {
         "name": "ID",
         "rawType": "object",
         "type": "string"
        },
        {
         "name": "text",
         "rawType": "object",
         "type": "string"
        },
        {
         "name": "label",
         "rawType": "object",
         "type": "string"
        }
       ],
       "conversionMethod": "pd.DataFrame",
       "ref": "9e1d0a8d-e1ca-43a4-8f93-e6040d2418c1",
       "rows": [
        [
         "2",
         "TXT00002",
         "Usai Debat, Prabowo Kecewa dengan Narasi Anies dan Ganjar soal Pertahanan, Sebut Banyak Data yang Salah https://t.co/7lhdJxaAMU - 07/01/2024, 23:18 WIB Me : Saya setuju dengan Pak #Prabowo2024 dan dalam hal ini Pak Anies dan Pak Ganjar bersikap seperti Anggota Dewan Komisi I DPR yang sedang hearing { dengar pendapat } dengan Menteri Pertahanan dengan meminta agar dialog diadakan terbuka untuk umum padahal Menurut Menteri Pertahanan untuk urusan yang satu ini, tidak bisa dibuka di depan publik alias RAHASIA. Wajar jika pertanyaan dari kubu 01 dan 03 dinilai oleh beliau TIDAK BERKUALITAS alias BERKELAS dan BANYAK KEKELIRUANNYA Begini cuplikan Artikel nya: Ã¢Â€ÂœSaya agak-agak sedikit kecewa dengan kualitas, terutama narasi yang disampaikan oleh paslon-paslon yang lain. Menurut saya mereka pertama datanya banyak yang salah, keliru,Ã¢Â€Â kata Prabowo selepas debat di Istora Senayan, Jakarta Pusat, Minggu (7/1/2024). Ã¢Â€ÂœPertahanan adalah sakral, dan tadi kalau tidak salah, ada paslon yang mengatakan untuk pertahanan tidak ada rahasia. Saya kira ini sangat lucu, ini sangat tidak pantas bagi seorang pemimpin. Justru masalah pertahanan, keamanan, itu sarat dengan hal-hal rahasia,Ã¢Â€Â tutur Menteri Pertahanan RI itu. Salam Dua Jari Ã¢ÂœÂŒÃ¯Â¸Â dari Pak Prabowo Subianto Djojohadikusumo untuk Indonesia",
         "Pertahanan dan Keamanan"
        ],
        [
         "14",
         "TXT00014",
         "RT Relawan Ganjar Dicekoki Miras hingga Dikasih Amplop sebelum Bentrok dengan Belasan TNI di Boyolali, Ini Bukti-buktinya https://t.co/t1leD5a3uc [RE tvOneNews]",
         "Pertahanan dan Keamanan"
        ],
        [
         "16",
         "TXT00016",
         "RT Ã¢Â€ÂœBentrok antara warga dengan pendukung Prabowo-Gibran di Sleman mengakibatkan dua warga mengalami lukaÃ‚Â² dan satu warga meninggal duniaÃ¢Â€Â Pendukung dan yg didukung sama kelakuannya, nyawa gak ada harganya dimata merekaÃ°ÂŸÂ¤Â¦Ã¢Â€ÂÃ¢Â™Â€Ã¯Â¸Â Ã°ÂŸÂ¦Â‰Park Ahn Nice Ã¢Â˜ÂÃ¯Â¸ÂÃ¢ÂÂ¤ https://t.co/K5uavFp1B1 [RE AnKiiim_]",
         "Pertahanan dan Keamanan"
        ],
        [
         "22",
         "TXT00022",
         "RT Ganjar Pranowo-Mahfud MD menekankan pentingnya persiapan dalam kebutuhan dasar alutsista dari tiga matra, yaitu darat, laut, dan udara.Ganjar Mahfud M3nang. #GanjarMahfudRebound #GanjarPranowoPilihanUmat #JNK #TemanAlamGanjar #AtikohIbuNegara #Apri0801 https://t.co/kxi9ei6A46 [RE AllaaGa1]",
         "Pertahanan dan Keamanan"
        ],
        [
         "23",
         "TXT00023",
         "Kepemimpinan Mas Ganjar Pranowo dan Pak Mahfud MD tidak hanya terlihat di arena politik, tetapi juga di d rumah tangga Ganjar Mahfud Hebat #L3bihbaik #MahfudLebihBaik3 #GanjarMahfud2024 Internet Gratis https://t.co/Pc0HVsVl9B",
         "Pertahanan dan Keamanan"
        ]
       ],
       "shape": {
        "columns": 3,
        "rows": 5
       }
      },
      "text/html": [
       "<div>\n",
       "<style scoped>\n",
       "    .dataframe tbody tr th:only-of-type {\n",
       "        vertical-align: middle;\n",
       "    }\n",
       "\n",
       "    .dataframe tbody tr th {\n",
       "        vertical-align: top;\n",
       "    }\n",
       "\n",
       "    .dataframe thead th {\n",
       "        text-align: right;\n",
       "    }\n",
       "</style>\n",
       "<table border=\"1\" class=\"dataframe\">\n",
       "  <thead>\n",
       "    <tr style=\"text-align: right;\">\n",
       "      <th></th>\n",
       "      <th>ID</th>\n",
       "      <th>text</th>\n",
       "      <th>label</th>\n",
       "    </tr>\n",
       "  </thead>\n",
       "  <tbody>\n",
       "    <tr>\n",
       "      <th>2</th>\n",
       "      <td>TXT00002</td>\n",
       "      <td>Usai Debat, Prabowo Kecewa dengan Narasi Anies...</td>\n",
       "      <td>Pertahanan dan Keamanan</td>\n",
       "    </tr>\n",
       "    <tr>\n",
       "      <th>14</th>\n",
       "      <td>TXT00014</td>\n",
       "      <td>RT Relawan Ganjar Dicekoki Miras hingga Dikasi...</td>\n",
       "      <td>Pertahanan dan Keamanan</td>\n",
       "    </tr>\n",
       "    <tr>\n",
       "      <th>16</th>\n",
       "      <td>TXT00016</td>\n",
       "      <td>RT Ã¢Â€ÂœBentrok antara warga dengan pendukung...</td>\n",
       "      <td>Pertahanan dan Keamanan</td>\n",
       "    </tr>\n",
       "    <tr>\n",
       "      <th>22</th>\n",
       "      <td>TXT00022</td>\n",
       "      <td>RT Ganjar Pranowo-Mahfud MD menekankan penting...</td>\n",
       "      <td>Pertahanan dan Keamanan</td>\n",
       "    </tr>\n",
       "    <tr>\n",
       "      <th>23</th>\n",
       "      <td>TXT00023</td>\n",
       "      <td>Kepemimpinan Mas Ganjar Pranowo dan Pak Mahfud...</td>\n",
       "      <td>Pertahanan dan Keamanan</td>\n",
       "    </tr>\n",
       "  </tbody>\n",
       "</table>\n",
       "</div>"
      ],
      "text/plain": [
       "          ID                                               text  \\\n",
       "2   TXT00002  Usai Debat, Prabowo Kecewa dengan Narasi Anies...   \n",
       "14  TXT00014  RT Relawan Ganjar Dicekoki Miras hingga Dikasi...   \n",
       "16  TXT00016  RT Ã¢Â€ÂœBentrok antara warga dengan pendukung...   \n",
       "22  TXT00022  RT Ganjar Pranowo-Mahfud MD menekankan penting...   \n",
       "23  TXT00023  Kepemimpinan Mas Ganjar Pranowo dan Pak Mahfud...   \n",
       "\n",
       "                      label  \n",
       "2   Pertahanan dan Keamanan  \n",
       "14  Pertahanan dan Keamanan  \n",
       "16  Pertahanan dan Keamanan  \n",
       "22  Pertahanan dan Keamanan  \n",
       "23  Pertahanan dan Keamanan  "
      ]
     },
     "metadata": {},
     "output_type": "display_data"
    },
    {
     "data": {
      "application/vnd.microsoft.datawrangler.viewer.v0+json": {
       "columns": [
        {
         "name": "index",
         "rawType": "int64",
         "type": "integer"
        },
        {
         "name": "ID",
         "rawType": "object",
         "type": "string"
        },
        {
         "name": "text",
         "rawType": "object",
         "type": "string"
        },
        {
         "name": "label",
         "rawType": "object",
         "type": "string"
        }
       ],
       "conversionMethod": "pd.DataFrame",
       "ref": "385ae9d6-9b6d-4eda-8a14-15334d6bd687",
       "rows": [
        [
         "3",
         "TXT00003",
         "RT \"Di belakang kita ini banyak tongkang batubara lewat namun di depan kita masih banyak warga yang miskin...\" ~ by Anies Baswedan https://t.co/IwpnhXBfiZ [RE BosPurwa]",
         "Sosial Budaya"
        ],
        [
         "5",
         "TXT00005",
         "RT Apa khabar kau Abah. Saya tak tahu nama penulis dan pembaca puisi ini. Tapi memang sepanjang Anies menjadi Gubernur. Ada banyak air mata melihatnya memeluk dan dipeluk warganya yg miskin &amp; terpinggirkan. @cWBxwsG3yi+wCZI5t2bP4MZZos2Od0LNAvNhSXPKudM= @/t2wgH4phqMW+E6kzS9sHetjhrS8DU97V4cVj35A+rI= https://t.co/duAB2J486C [RE GeiszChalifah]",
         "Sosial Budaya"
        ],
        [
         "9",
         "TXT00009",
         "RT bro keren bgt pak anies bilang kalo pak suami juga harus dpt cuti melahirkan 40 hari supaya bisa nemenin istri + ngurus mukjizat dari tuhan (anak) bareng bareng Ã°ÂŸÂ˜Â­Ã°ÂŸÂ˜Â­Ã°ÂŸÂ˜Â­Ã°ÂŸÂ˜Â­ https://t.co/kzQCFMKQ6C [RE zizuambis]",
         "Sosial Budaya"
        ],
        [
         "25",
         "TXT00025",
         "@/wFEkhYeQYTKA4VP4JIyYv/bsfEP+8JzaLTkH8cyNGU= @LpeueoxhDLtGYeFDR7V1kYgAIEa4rkegktFhf6JjpkQ= Yakin banget dunia pendidikan di pak ganjar akan maju dan merata",
         "Sosial Budaya"
        ],
        [
         "30",
         "TXT00030",
         "@wDANl+Ol2yJyTvcwKOYVjzt1G157dhr2UhDYP4Si9so= pak anies adalah alasan kenapa gua apa2 sekarang naik TJ &amp; jatuh cinta sama transportasi publik, terus byk akses pejalan kaki yg dimudahkan juga. motor gua sampe diservice krn gak pernah dipake. padahal di",
         "Sosial Budaya"
        ]
       ],
       "shape": {
        "columns": 3,
        "rows": 5
       }
      },
      "text/html": [
       "<div>\n",
       "<style scoped>\n",
       "    .dataframe tbody tr th:only-of-type {\n",
       "        vertical-align: middle;\n",
       "    }\n",
       "\n",
       "    .dataframe tbody tr th {\n",
       "        vertical-align: top;\n",
       "    }\n",
       "\n",
       "    .dataframe thead th {\n",
       "        text-align: right;\n",
       "    }\n",
       "</style>\n",
       "<table border=\"1\" class=\"dataframe\">\n",
       "  <thead>\n",
       "    <tr style=\"text-align: right;\">\n",
       "      <th></th>\n",
       "      <th>ID</th>\n",
       "      <th>text</th>\n",
       "      <th>label</th>\n",
       "    </tr>\n",
       "  </thead>\n",
       "  <tbody>\n",
       "    <tr>\n",
       "      <th>3</th>\n",
       "      <td>TXT00003</td>\n",
       "      <td>RT \"Di belakang kita ini banyak tongkang batub...</td>\n",
       "      <td>Sosial Budaya</td>\n",
       "    </tr>\n",
       "    <tr>\n",
       "      <th>5</th>\n",
       "      <td>TXT00005</td>\n",
       "      <td>RT Apa khabar kau Abah. Saya tak tahu nama pen...</td>\n",
       "      <td>Sosial Budaya</td>\n",
       "    </tr>\n",
       "    <tr>\n",
       "      <th>9</th>\n",
       "      <td>TXT00009</td>\n",
       "      <td>RT bro keren bgt pak anies bilang kalo pak sua...</td>\n",
       "      <td>Sosial Budaya</td>\n",
       "    </tr>\n",
       "    <tr>\n",
       "      <th>25</th>\n",
       "      <td>TXT00025</td>\n",
       "      <td>@/wFEkhYeQYTKA4VP4JIyYv/bsfEP+8JzaLTkH8cyNGU= ...</td>\n",
       "      <td>Sosial Budaya</td>\n",
       "    </tr>\n",
       "    <tr>\n",
       "      <th>30</th>\n",
       "      <td>TXT00030</td>\n",
       "      <td>@wDANl+Ol2yJyTvcwKOYVjzt1G157dhr2UhDYP4Si9so= ...</td>\n",
       "      <td>Sosial Budaya</td>\n",
       "    </tr>\n",
       "  </tbody>\n",
       "</table>\n",
       "</div>"
      ],
      "text/plain": [
       "          ID                                               text          label\n",
       "3   TXT00003  RT \"Di belakang kita ini banyak tongkang batub...  Sosial Budaya\n",
       "5   TXT00005  RT Apa khabar kau Abah. Saya tak tahu nama pen...  Sosial Budaya\n",
       "9   TXT00009  RT bro keren bgt pak anies bilang kalo pak sua...  Sosial Budaya\n",
       "25  TXT00025  @/wFEkhYeQYTKA4VP4JIyYv/bsfEP+8JzaLTkH8cyNGU= ...  Sosial Budaya\n",
       "30  TXT00030  @wDANl+Ol2yJyTvcwKOYVjzt1G157dhr2UhDYP4Si9so= ...  Sosial Budaya"
      ]
     },
     "metadata": {},
     "output_type": "display_data"
    },
    {
     "data": {
      "application/vnd.microsoft.datawrangler.viewer.v0+json": {
       "columns": [
        {
         "name": "index",
         "rawType": "int64",
         "type": "integer"
        },
        {
         "name": "ID",
         "rawType": "object",
         "type": "string"
        },
        {
         "name": "text",
         "rawType": "object",
         "type": "string"
        },
        {
         "name": "label",
         "rawType": "object",
         "type": "string"
        }
       ],
       "conversionMethod": "pd.DataFrame",
       "ref": "5a58a54c-b325-4559-9be2-846468e6bd73",
       "rows": [
        [
         "8",
         "TXT00008",
         "RT Janji Pak Anies pada Masyarakat Sumatera Barat : Membangun Stadion Sepak Bola bertarap Internasional di Sumatera Barat jika nanti terpilih menjadi Presiden, tapi rumputnya jangan diganti ya Ã°ÂŸÂ™Âˆ https://t.co/ESnQSBDu8m [RE Elz4m_]",
         "Sumber Daya Alam"
        ],
        [
         "28",
         "TXT00028",
         "@ZEtlzKevXBLY8NCcxYq1V1ut2Ha+92wgFYmQ5ZC/uYc= Wakil Ketua Dewan Pakar TKN, Sudjatmiko, cerita tentang langkah besar Prabowo - Gibran di bidang pertanian desa. dekade08",
         "Sumber Daya Alam"
        ],
        [
         "46",
         "TXT00046",
         "pak anies tolong ijinin shopee cina jualan lg",
         "Sumber Daya Alam"
        ],
        [
         "48",
         "TXT00048",
         "RT Anies pilih atasi stunting dengan ikan daripada susu karena Indonesia negara maritim potensi laut kita luar biasa, nelayan diberdayakan.. #NelayanPilihAMIN https://t.co/vi5an9Yz0B [RE ekowboy2]",
         "Sumber Daya Alam"
        ],
        [
         "54",
         "TXT00054",
         "RT Viral! Prihatin Dengan Kelangkaan Pupuk di Indonesia, Pengusaha Pendukung Anies Sumbangkan 500 Ton Pupuk ke Wilayah Jawa Timur. [RE abu_waras]",
         "Sumber Daya Alam"
        ]
       ],
       "shape": {
        "columns": 3,
        "rows": 5
       }
      },
      "text/html": [
       "<div>\n",
       "<style scoped>\n",
       "    .dataframe tbody tr th:only-of-type {\n",
       "        vertical-align: middle;\n",
       "    }\n",
       "\n",
       "    .dataframe tbody tr th {\n",
       "        vertical-align: top;\n",
       "    }\n",
       "\n",
       "    .dataframe thead th {\n",
       "        text-align: right;\n",
       "    }\n",
       "</style>\n",
       "<table border=\"1\" class=\"dataframe\">\n",
       "  <thead>\n",
       "    <tr style=\"text-align: right;\">\n",
       "      <th></th>\n",
       "      <th>ID</th>\n",
       "      <th>text</th>\n",
       "      <th>label</th>\n",
       "    </tr>\n",
       "  </thead>\n",
       "  <tbody>\n",
       "    <tr>\n",
       "      <th>8</th>\n",
       "      <td>TXT00008</td>\n",
       "      <td>RT Janji Pak Anies pada Masyarakat Sumatera Ba...</td>\n",
       "      <td>Sumber Daya Alam</td>\n",
       "    </tr>\n",
       "    <tr>\n",
       "      <th>28</th>\n",
       "      <td>TXT00028</td>\n",
       "      <td>@ZEtlzKevXBLY8NCcxYq1V1ut2Ha+92wgFYmQ5ZC/uYc= ...</td>\n",
       "      <td>Sumber Daya Alam</td>\n",
       "    </tr>\n",
       "    <tr>\n",
       "      <th>46</th>\n",
       "      <td>TXT00046</td>\n",
       "      <td>pak anies tolong ijinin shopee cina jualan lg</td>\n",
       "      <td>Sumber Daya Alam</td>\n",
       "    </tr>\n",
       "    <tr>\n",
       "      <th>48</th>\n",
       "      <td>TXT00048</td>\n",
       "      <td>RT Anies pilih atasi stunting dengan ikan dari...</td>\n",
       "      <td>Sumber Daya Alam</td>\n",
       "    </tr>\n",
       "    <tr>\n",
       "      <th>54</th>\n",
       "      <td>TXT00054</td>\n",
       "      <td>RT Viral! Prihatin Dengan Kelangkaan Pupuk di ...</td>\n",
       "      <td>Sumber Daya Alam</td>\n",
       "    </tr>\n",
       "  </tbody>\n",
       "</table>\n",
       "</div>"
      ],
      "text/plain": [
       "          ID                                               text  \\\n",
       "8   TXT00008  RT Janji Pak Anies pada Masyarakat Sumatera Ba...   \n",
       "28  TXT00028  @ZEtlzKevXBLY8NCcxYq1V1ut2Ha+92wgFYmQ5ZC/uYc= ...   \n",
       "46  TXT00046      pak anies tolong ijinin shopee cina jualan lg   \n",
       "48  TXT00048  RT Anies pilih atasi stunting dengan ikan dari...   \n",
       "54  TXT00054  RT Viral! Prihatin Dengan Kelangkaan Pupuk di ...   \n",
       "\n",
       "               label  \n",
       "8   Sumber Daya Alam  \n",
       "28  Sumber Daya Alam  \n",
       "46  Sumber Daya Alam  \n",
       "48  Sumber Daya Alam  \n",
       "54  Sumber Daya Alam  "
      ]
     },
     "metadata": {},
     "output_type": "display_data"
    },
    {
     "data": {
      "application/vnd.microsoft.datawrangler.viewer.v0+json": {
       "columns": [
        {
         "name": "index",
         "rawType": "int64",
         "type": "integer"
        },
        {
         "name": "ID",
         "rawType": "object",
         "type": "string"
        },
        {
         "name": "text",
         "rawType": "object",
         "type": "string"
        },
        {
         "name": "label",
         "rawType": "object",
         "type": "string"
        }
       ],
       "conversionMethod": "pd.DataFrame",
       "ref": "274d73e1-fefc-4445-9560-d9a2dd1219a0",
       "rows": [
        [
         "11",
         "TXT00011",
         "#PilpresIndonesia2024 pilihanku sudah jelas ! Dukunglah Ganjar Pranowo, pemimpin yang teruji dan terpercaya. #JNK #GanjarMahfudRebound #GanjarPranowoPilihanUmat https://t.co/LPrR09uh5R",
         "Ideologi"
        ],
        [
         "27",
         "TXT00027",
         "Calon Presiden RI No Urut 3 Ganjar Pranowo ingin kita semua tahu bahwa Konstitusi atau aturan dasar negara bukan main-main, harus dijaga.#JNK #GanjarMahfudRebound #GanjarPranowoPilihanUmat https://t.co/F3LqJJREUO",
         "Ideologi"
        ],
        [
         "40",
         "TXT00040",
         "Gus Yahya dengan tindakan terang-terangan mengkhianati prinsip-prinsip dasar NU MasBOWOGBran PilihanKITA Asal Bukan Prabowo #MakinBanyakYg02 #KampanyeKreatif167 https://t.co/rM9rFBEsBD",
         "Ideologi"
        ],
        [
         "44",
         "TXT00044",
         "RT Ã¢Â€ÂœBecik ketitik, ala ketara.Ã¢Â€Â Ã¢Â€Â”Prabowo (2019) [RE ainunnajib]",
         "Ideologi"
        ],
        [
         "69",
         "TXT00069",
         "@3x/UGdwS/f0kSZnEmnC1ftgaIUSYj6Ky/nypSQjFg5I= @dt8vVjYgB3H/nTqNIwNtgOsDqo+Wwu8IeaLDLeQy81Q= Benarlah apa yang dikatakan Anies. Negeri ini sdg di persimpangan jalan antara menjadi Negara Hukum atau Negara Kekuasaan. Negara hukum dimana kekuasaan diatur ole",
         "Ideologi"
        ]
       ],
       "shape": {
        "columns": 3,
        "rows": 5
       }
      },
      "text/html": [
       "<div>\n",
       "<style scoped>\n",
       "    .dataframe tbody tr th:only-of-type {\n",
       "        vertical-align: middle;\n",
       "    }\n",
       "\n",
       "    .dataframe tbody tr th {\n",
       "        vertical-align: top;\n",
       "    }\n",
       "\n",
       "    .dataframe thead th {\n",
       "        text-align: right;\n",
       "    }\n",
       "</style>\n",
       "<table border=\"1\" class=\"dataframe\">\n",
       "  <thead>\n",
       "    <tr style=\"text-align: right;\">\n",
       "      <th></th>\n",
       "      <th>ID</th>\n",
       "      <th>text</th>\n",
       "      <th>label</th>\n",
       "    </tr>\n",
       "  </thead>\n",
       "  <tbody>\n",
       "    <tr>\n",
       "      <th>11</th>\n",
       "      <td>TXT00011</td>\n",
       "      <td>#PilpresIndonesia2024 pilihanku sudah jelas ! ...</td>\n",
       "      <td>Ideologi</td>\n",
       "    </tr>\n",
       "    <tr>\n",
       "      <th>27</th>\n",
       "      <td>TXT00027</td>\n",
       "      <td>Calon Presiden RI No Urut 3 Ganjar Pranowo ing...</td>\n",
       "      <td>Ideologi</td>\n",
       "    </tr>\n",
       "    <tr>\n",
       "      <th>40</th>\n",
       "      <td>TXT00040</td>\n",
       "      <td>Gus Yahya dengan tindakan terang-terangan meng...</td>\n",
       "      <td>Ideologi</td>\n",
       "    </tr>\n",
       "    <tr>\n",
       "      <th>44</th>\n",
       "      <td>TXT00044</td>\n",
       "      <td>RT Ã¢Â€ÂœBecik ketitik, ala ketara.Ã¢Â€Â Ã¢Â€...</td>\n",
       "      <td>Ideologi</td>\n",
       "    </tr>\n",
       "    <tr>\n",
       "      <th>69</th>\n",
       "      <td>TXT00069</td>\n",
       "      <td>@3x/UGdwS/f0kSZnEmnC1ftgaIUSYj6Ky/nypSQjFg5I= ...</td>\n",
       "      <td>Ideologi</td>\n",
       "    </tr>\n",
       "  </tbody>\n",
       "</table>\n",
       "</div>"
      ],
      "text/plain": [
       "          ID                                               text     label\n",
       "11  TXT00011  #PilpresIndonesia2024 pilihanku sudah jelas ! ...  Ideologi\n",
       "27  TXT00027  Calon Presiden RI No Urut 3 Ganjar Pranowo ing...  Ideologi\n",
       "40  TXT00040  Gus Yahya dengan tindakan terang-terangan meng...  Ideologi\n",
       "44  TXT00044  RT Ã¢Â€ÂœBecik ketitik, ala ketara.Ã¢Â€Â Ã¢Â€...  Ideologi\n",
       "69  TXT00069  @3x/UGdwS/f0kSZnEmnC1ftgaIUSYj6Ky/nypSQjFg5I= ...  Ideologi"
      ]
     },
     "metadata": {},
     "output_type": "display_data"
    },
    {
     "data": {
      "application/vnd.microsoft.datawrangler.viewer.v0+json": {
       "columns": [
        {
         "name": "index",
         "rawType": "int64",
         "type": "integer"
        },
        {
         "name": "ID",
         "rawType": "object",
         "type": "string"
        },
        {
         "name": "text",
         "rawType": "object",
         "type": "string"
        },
        {
         "name": "label",
         "rawType": "object",
         "type": "string"
        }
       ],
       "conversionMethod": "pd.DataFrame",
       "ref": "8bdaf20b-3366-4984-b8ac-b9e209dccea4",
       "rows": [
        [
         "13",
         "TXT00013",
         "Paslon No 03 Ganjar Pranowo - Prof Mahfud MD punya ide bagus, ekonomi kita bisa 7% tumbuh terus. #GanjarMahfudRebound #GanjarPranowoPilihanUmat #JNK https://t.co/H877h9PcUF",
         "Ekonomi"
        ],
        [
         "17",
         "TXT00017",
         "bgini lah kualitas cawapres yg bakal lu dpt klo lu dengan penuh sadar mencoblos no 2 di tps nanti. amit amit prabowo nanti mati. yg naik jadi presiden bukan bapak lu, om lu, dll. tapi si gibran pah poh ini cokkkkkk. #asalbukanprabowo",
         "Ekonomi"
        ],
        [
         "71",
         "TXT00071",
         "Pasangan Capres Cawapres Ganjar Pranowo Mahfud MD, motor perubahan. Kredit 35% untuk koprasi dan UMKM, jadi andalan bisnis lokal. Sukses terus, teman-teman.#GanjarMahfudRebound #GanjarPranowoPilihanUmat #JNK",
         "Ekonomi"
        ],
        [
         "75",
         "TXT00075",
         "@aJzRRJkr4YIqO9XSscvebsclrMTbI9WZMCL1dQ5tHpc= Saya orang Jateng, keluarga banyak yg masih dukung banteng tapi saya dukung Anies.....",
         "Ekonomi"
        ],
        [
         "95",
         "TXT00095",
         "RT Jika Jadi Presiden, Ini Rencana Pak Anies Baswedan Kembangkan dan meningkatkan industri Farmasi Sesuai dengan visi beliau menjadi tuan rumah di negeri sendiri, mempesona di negeri orang Ã°ÂŸÂ˜ÂŽ https://t.co/VfDFKoC6ow [RE Mdy_Asmara1701]",
         "Ekonomi"
        ]
       ],
       "shape": {
        "columns": 3,
        "rows": 5
       }
      },
      "text/html": [
       "<div>\n",
       "<style scoped>\n",
       "    .dataframe tbody tr th:only-of-type {\n",
       "        vertical-align: middle;\n",
       "    }\n",
       "\n",
       "    .dataframe tbody tr th {\n",
       "        vertical-align: top;\n",
       "    }\n",
       "\n",
       "    .dataframe thead th {\n",
       "        text-align: right;\n",
       "    }\n",
       "</style>\n",
       "<table border=\"1\" class=\"dataframe\">\n",
       "  <thead>\n",
       "    <tr style=\"text-align: right;\">\n",
       "      <th></th>\n",
       "      <th>ID</th>\n",
       "      <th>text</th>\n",
       "      <th>label</th>\n",
       "    </tr>\n",
       "  </thead>\n",
       "  <tbody>\n",
       "    <tr>\n",
       "      <th>13</th>\n",
       "      <td>TXT00013</td>\n",
       "      <td>Paslon No 03 Ganjar Pranowo - Prof Mahfud MD p...</td>\n",
       "      <td>Ekonomi</td>\n",
       "    </tr>\n",
       "    <tr>\n",
       "      <th>17</th>\n",
       "      <td>TXT00017</td>\n",
       "      <td>bgini lah kualitas cawapres yg bakal lu dpt kl...</td>\n",
       "      <td>Ekonomi</td>\n",
       "    </tr>\n",
       "    <tr>\n",
       "      <th>71</th>\n",
       "      <td>TXT00071</td>\n",
       "      <td>Pasangan Capres Cawapres Ganjar Pranowo Mahfud...</td>\n",
       "      <td>Ekonomi</td>\n",
       "    </tr>\n",
       "    <tr>\n",
       "      <th>75</th>\n",
       "      <td>TXT00075</td>\n",
       "      <td>@aJzRRJkr4YIqO9XSscvebsclrMTbI9WZMCL1dQ5tHpc= ...</td>\n",
       "      <td>Ekonomi</td>\n",
       "    </tr>\n",
       "    <tr>\n",
       "      <th>95</th>\n",
       "      <td>TXT00095</td>\n",
       "      <td>RT Jika Jadi Presiden, Ini Rencana Pak Anies B...</td>\n",
       "      <td>Ekonomi</td>\n",
       "    </tr>\n",
       "  </tbody>\n",
       "</table>\n",
       "</div>"
      ],
      "text/plain": [
       "          ID                                               text    label\n",
       "13  TXT00013  Paslon No 03 Ganjar Pranowo - Prof Mahfud MD p...  Ekonomi\n",
       "17  TXT00017  bgini lah kualitas cawapres yg bakal lu dpt kl...  Ekonomi\n",
       "71  TXT00071  Pasangan Capres Cawapres Ganjar Pranowo Mahfud...  Ekonomi\n",
       "75  TXT00075  @aJzRRJkr4YIqO9XSscvebsclrMTbI9WZMCL1dQ5tHpc= ...  Ekonomi\n",
       "95  TXT00095  RT Jika Jadi Presiden, Ini Rencana Pak Anies B...  Ekonomi"
      ]
     },
     "metadata": {},
     "output_type": "display_data"
    },
    {
     "data": {
      "application/vnd.microsoft.datawrangler.viewer.v0+json": {
       "columns": [
        {
         "name": "index",
         "rawType": "int64",
         "type": "integer"
        },
        {
         "name": "ID",
         "rawType": "object",
         "type": "string"
        },
        {
         "name": "text",
         "rawType": "object",
         "type": "string"
        },
        {
         "name": "label",
         "rawType": "object",
         "type": "string"
        }
       ],
       "conversionMethod": "pd.DataFrame",
       "ref": "46e4ae1c-4f92-467d-994d-3d392d95a122",
       "rows": [
        [
         "53",
         "TXT00053",
         "@gQ+QGmYJ209N7Py+H3gRyakQiic4NLEklTOIIuALnZA= @gqAL2HIcdWKR2U/VFUq3R0TFxXxtxCsKyUXAKn9R5o0= Iya nih penting suara Batak sebagai populasi etnis ketiga terbesar setelah Jawa Sunda. Mayoritas Batak Kristen cukup anti sama Anies karena diframing radikal sejak",
         "Demografi"
        ],
        [
         "89",
         "TXT00089",
         "@CIqXqwGAT04tMtx4OCATxjoVq7vv/Y8HeYaIOgMFg8Y= emng bener sih, pendukung 01 ada yg goblok, begitu jg dg pendukung 02.. hnya sj menurut pak Ridwan Kamil skemanya terbalik, klo 01 MAYORITAS PENDIDIKAN MENENGAH ATAS (artinya ada jg pendidikan rendah yg milih",
         "Demografi"
        ],
        [
         "206",
         "TXT00206",
         "RT *Ternyata Anies lebih gila.. share ke semua group agar kita semua bangga menjadi Anak bangsa Indonesia.... *Penuh Prestasi, bukan karya abal\"* @u1viD0tQE0DgbLuK8b2TOF4ptgjBH0bO/ZiGnGtwJH4= @aTVi2CjdfyiBMmbvxgUi/5uJWeKbY0DcM09FaLEOwy0= @kwTW4BflyVaRwUC9olDq9afG9tsBcytcbX4Pl4iVwnQ= @w2vnGwZYu7Opa2og3o4AfyR0we1dF3bHahluZM1pgBg= @xPxUw+4bT6bFQMyg/GJyFz8dIWKvTDCn5tls1I0Ztvo= @fx9rDFx2BOxJLAwggUfhabTMOmwb5qUMquUTLtJI2KY= @JCOsfSpjbGB76RSns6QjzYu8QuRhJEHfMCypSsljkrM= https://t.co/8vJy8SVKg4 [RE Andria75777]",
         "Demografi"
        ],
        [
         "212",
         "TXT00212",
         "@vY9F/b+uTyRM5hm1ulJDLbdxwGqRWTCBYbmsg5idi7o= @TeRiIzD5HgScp6WZjCflL9SmpVhR9cHgumDVEhT5kH8= @3LEeLfhbVvGWRseJZMxCKBPBpiENCVEePVpmUvAf3C0= Anies memperhatikan isu-isu sosial yang dihadapi oleh Gen Z.",
         "Demografi"
        ],
        [
         "466",
         "TXT00466",
         "@cdTtrPR2qj41VAl1LHWdlO9REkQXECJbY+mb3SscU3A= Sebagai kalangan perempuan muda Bangga rasanya bisa bersama berjuang bersama pasangan Ganjar Mahfud. Tetaplah semangat mewujudkan Indonesia unggul menuju Indonesia emas",
         "Demografi"
        ]
       ],
       "shape": {
        "columns": 3,
        "rows": 5
       }
      },
      "text/html": [
       "<div>\n",
       "<style scoped>\n",
       "    .dataframe tbody tr th:only-of-type {\n",
       "        vertical-align: middle;\n",
       "    }\n",
       "\n",
       "    .dataframe tbody tr th {\n",
       "        vertical-align: top;\n",
       "    }\n",
       "\n",
       "    .dataframe thead th {\n",
       "        text-align: right;\n",
       "    }\n",
       "</style>\n",
       "<table border=\"1\" class=\"dataframe\">\n",
       "  <thead>\n",
       "    <tr style=\"text-align: right;\">\n",
       "      <th></th>\n",
       "      <th>ID</th>\n",
       "      <th>text</th>\n",
       "      <th>label</th>\n",
       "    </tr>\n",
       "  </thead>\n",
       "  <tbody>\n",
       "    <tr>\n",
       "      <th>53</th>\n",
       "      <td>TXT00053</td>\n",
       "      <td>@gQ+QGmYJ209N7Py+H3gRyakQiic4NLEklTOIIuALnZA= ...</td>\n",
       "      <td>Demografi</td>\n",
       "    </tr>\n",
       "    <tr>\n",
       "      <th>89</th>\n",
       "      <td>TXT00089</td>\n",
       "      <td>@CIqXqwGAT04tMtx4OCATxjoVq7vv/Y8HeYaIOgMFg8Y= ...</td>\n",
       "      <td>Demografi</td>\n",
       "    </tr>\n",
       "    <tr>\n",
       "      <th>206</th>\n",
       "      <td>TXT00206</td>\n",
       "      <td>RT *Ternyata Anies lebih gila.. share ke semua...</td>\n",
       "      <td>Demografi</td>\n",
       "    </tr>\n",
       "    <tr>\n",
       "      <th>212</th>\n",
       "      <td>TXT00212</td>\n",
       "      <td>@vY9F/b+uTyRM5hm1ulJDLbdxwGqRWTCBYbmsg5idi7o= ...</td>\n",
       "      <td>Demografi</td>\n",
       "    </tr>\n",
       "    <tr>\n",
       "      <th>466</th>\n",
       "      <td>TXT00466</td>\n",
       "      <td>@cdTtrPR2qj41VAl1LHWdlO9REkQXECJbY+mb3SscU3A= ...</td>\n",
       "      <td>Demografi</td>\n",
       "    </tr>\n",
       "  </tbody>\n",
       "</table>\n",
       "</div>"
      ],
      "text/plain": [
       "           ID                                               text      label\n",
       "53   TXT00053  @gQ+QGmYJ209N7Py+H3gRyakQiic4NLEklTOIIuALnZA= ...  Demografi\n",
       "89   TXT00089  @CIqXqwGAT04tMtx4OCATxjoVq7vv/Y8HeYaIOgMFg8Y= ...  Demografi\n",
       "206  TXT00206  RT *Ternyata Anies lebih gila.. share ke semua...  Demografi\n",
       "212  TXT00212  @vY9F/b+uTyRM5hm1ulJDLbdxwGqRWTCBYbmsg5idi7o= ...  Demografi\n",
       "466  TXT00466  @cdTtrPR2qj41VAl1LHWdlO9REkQXECJbY+mb3SscU3A= ...  Demografi"
      ]
     },
     "metadata": {},
     "output_type": "display_data"
    },
    {
     "data": {
      "application/vnd.microsoft.datawrangler.viewer.v0+json": {
       "columns": [
        {
         "name": "index",
         "rawType": "int64",
         "type": "integer"
        },
        {
         "name": "ID",
         "rawType": "object",
         "type": "string"
        },
        {
         "name": "text",
         "rawType": "object",
         "type": "string"
        },
        {
         "name": "label",
         "rawType": "object",
         "type": "string"
        }
       ],
       "conversionMethod": "pd.DataFrame",
       "ref": "d63f451d-3e4a-4692-940f-52dda6b23f2a",
       "rows": [
        [
         "88",
         "TXT00088",
         "RT Ditakedown di Jakarta &amp; Bekasi, videotron pak Anies muncul lagi di Surabaya, Medan &amp; Gorontalo. Lawan intimidasi!! Anies Deserve Better Videotron #HotlineParisAMIN https://t.co/QHGCezLCk0 [RE ekowboy2]",
         "Geografi"
        ],
        [
         "634",
         "TXT00634",
         "@t+7/By19Hcw9NS0Mxioa2duMRz9nGYwpFgFlBWUudDE= @ZQ3ImPMuAdUavpmzEktsvOMtANbZILMcB1gz1zlKYZI= @advEzBjACKj+ggKyu7PdTApTSrZz2iuM2OPFqdNxWho= Lu paling gblok, lu liat tuh pulau reklamasi berjalan, lalu apa yg dipermasalahin Anies?",
         "Geografi"
        ],
        [
         "731",
         "TXT00731",
         "@E/5kbRlcY5pcyjDvk8BWOCC0PIjEsgsLg7Xgy2J9nLU= Jadi mau pindah nanti ke IKN kalo dapet rezeki. Masa depan anak cucu mudah2an menjadi lebih baik. Jakarta-bandung kabarnya akan bergabung, makin tambah sumpek pulau Jawa nanti. Kita lihat saja perkembangan IKN. Semangat lanjutkan pembangunan pak @wk6Kd6D5h6lvpKJ14i4FFCJNn0i1AVk+M0SKShWavUw= Terimakasih pak @t6mPYQA62lQ5kXPhkn+CTfX83TxkauWLwepHOX8Bgr8=",
         "Geografi"
        ],
        [
         "793",
         "TXT00793",
         "@jlR4/JTXt2he4U//daNzl8gNIcWN5t2zGb4CBZ/8+ho= @slfSxn46om4q3VtXgJFny6E5KWDBn2ee1P9aECqEl6Y= Di tiktok ada yg bilang Anies kepengen bangun 40 kota seperti Jakarta, tapi provinsi cuma 34 Ã°ÂŸÂ˜Â­ ngakak",
         "Geografi"
        ],
        [
         "957",
         "TXT00957",
         "RT Setiap temen w komentar Ã¢Â€Â˜Anies mah janji doang, manis. Aslinya?Ã¢Â€Â™ Pasti w akan jawab Ã¢Â€Â˜capres mana yg ga janji? Bedanya kan di apakah kita akan punya kebebasan mengkritik dan menagih janji, atau tidak?Ã¢Â€Â™ Dan beliau addressing this exact statement Ã°ÂŸÂ¥Â¹Ã°ÂŸÂ«Â¡ [RE sipaaround]",
         "Geografi"
        ]
       ],
       "shape": {
        "columns": 3,
        "rows": 5
       }
      },
      "text/html": [
       "<div>\n",
       "<style scoped>\n",
       "    .dataframe tbody tr th:only-of-type {\n",
       "        vertical-align: middle;\n",
       "    }\n",
       "\n",
       "    .dataframe tbody tr th {\n",
       "        vertical-align: top;\n",
       "    }\n",
       "\n",
       "    .dataframe thead th {\n",
       "        text-align: right;\n",
       "    }\n",
       "</style>\n",
       "<table border=\"1\" class=\"dataframe\">\n",
       "  <thead>\n",
       "    <tr style=\"text-align: right;\">\n",
       "      <th></th>\n",
       "      <th>ID</th>\n",
       "      <th>text</th>\n",
       "      <th>label</th>\n",
       "    </tr>\n",
       "  </thead>\n",
       "  <tbody>\n",
       "    <tr>\n",
       "      <th>88</th>\n",
       "      <td>TXT00088</td>\n",
       "      <td>RT Ditakedown di Jakarta &amp;amp; Bekasi, videotr...</td>\n",
       "      <td>Geografi</td>\n",
       "    </tr>\n",
       "    <tr>\n",
       "      <th>634</th>\n",
       "      <td>TXT00634</td>\n",
       "      <td>@t+7/By19Hcw9NS0Mxioa2duMRz9nGYwpFgFlBWUudDE= ...</td>\n",
       "      <td>Geografi</td>\n",
       "    </tr>\n",
       "    <tr>\n",
       "      <th>731</th>\n",
       "      <td>TXT00731</td>\n",
       "      <td>@E/5kbRlcY5pcyjDvk8BWOCC0PIjEsgsLg7Xgy2J9nLU= ...</td>\n",
       "      <td>Geografi</td>\n",
       "    </tr>\n",
       "    <tr>\n",
       "      <th>793</th>\n",
       "      <td>TXT00793</td>\n",
       "      <td>@jlR4/JTXt2he4U//daNzl8gNIcWN5t2zGb4CBZ/8+ho= ...</td>\n",
       "      <td>Geografi</td>\n",
       "    </tr>\n",
       "    <tr>\n",
       "      <th>957</th>\n",
       "      <td>TXT00957</td>\n",
       "      <td>RT Setiap temen w komentar Ã¢Â€Â˜Anies mah jan...</td>\n",
       "      <td>Geografi</td>\n",
       "    </tr>\n",
       "  </tbody>\n",
       "</table>\n",
       "</div>"
      ],
      "text/plain": [
       "           ID                                               text     label\n",
       "88   TXT00088  RT Ditakedown di Jakarta &amp; Bekasi, videotr...  Geografi\n",
       "634  TXT00634  @t+7/By19Hcw9NS0Mxioa2duMRz9nGYwpFgFlBWUudDE= ...  Geografi\n",
       "731  TXT00731  @E/5kbRlcY5pcyjDvk8BWOCC0PIjEsgsLg7Xgy2J9nLU= ...  Geografi\n",
       "793  TXT00793  @jlR4/JTXt2he4U//daNzl8gNIcWN5t2zGb4CBZ/8+ho= ...  Geografi\n",
       "957  TXT00957  RT Setiap temen w komentar Ã¢Â€Â˜Anies mah jan...  Geografi"
      ]
     },
     "metadata": {},
     "output_type": "display_data"
    }
   ],
   "source": [
    "for label in train['label'].unique():\n",
    "    display(train[train['label']==label].head())"
   ]
  },
  {
   "cell_type": "markdown",
   "metadata": {},
   "source": [
    "# Feature Engineering"
   ]
  },
  {
   "cell_type": "markdown",
   "metadata": {},
   "source": [
    "## Political Slogans"
   ]
  },
  {
   "cell_type": "markdown",
   "metadata": {},
   "source": [
    "list of political slogans or call names"
   ]
  },
  {
   "cell_type": "code",
   "execution_count": null,
   "metadata": {},
   "outputs": [],
   "source": [
    "political_slogan = [\"amin\",\"01\",\"02\",\"03\",\"gerindra\",\"pdip\",\"ppp\",\"abah\",\"dinasti\"]"
   ]
  },
  {
   "cell_type": "markdown",
   "metadata": {},
   "source": [
    "## Political Terms"
   ]
  },
  {
   "cell_type": "markdown",
   "metadata": {},
   "source": [
    "we will create a list of political terms that are likely to be used for talking politcs"
   ]
  },
  {
   "cell_type": "code",
   "execution_count": null,
   "metadata": {},
   "outputs": [],
   "source": [
    "politic_terms =[\"pemilu\",\"pilkada\",\"pemilihan\",\"presiden\",\"gubernur\",\"wakil\",\"menteri\",\"partai\",\"politik\",\n",
    "                \"pemerintah\",\"oposisi\",\"pemerintahan\",\"negara\",\"kabinet\",\"dpr\",\"dprd\",\"dpr-ri\",\n",
    "                \"kampanye\",\"terpilih\",\"capres\"]"
   ]
  },
  {
   "cell_type": "markdown",
   "metadata": {},
   "source": [
    "## Social Terms"
   ]
  },
  {
   "cell_type": "code",
   "execution_count": null,
   "metadata": {},
   "outputs": [],
   "source": [
    "social_terms = [\"agama\",\"sosial\",\"budaya\",\"pendidikan\",\"minoritas\",\"mayoritas\",\"suku\",\"ras\",\"etnis\",\n",
    "                \"kepercayaan\",\"tradisi\",\"adat\",\"kebudayaan\",\"keagamaan\",\"keberagaman\",\"kebhinekaan\",\n",
    "                \"keadilan\",\"kebebasan\",\"hak\",\"perempuan\",\"anak\",\"laki\",\"disabilitas\",\"toleransi\"]"
   ]
  },
  {
   "cell_type": "markdown",
   "metadata": {},
   "source": [
    "## Defense and Security Terms"
   ]
  },
  {
   "cell_type": "code",
   "execution_count": null,
   "metadata": {},
   "outputs": [],
   "source": [
    "defense_terms = [\"militer\",\"tentara\",\"pertahanan\",\"keamanan\",\"serangan\",\"perang\",\"penyerangan\",\"serbuan\",\n",
    "                 \"ancaman\",\"tni\",\"polisi\",\"polri\",\"kepolisian\",\"polda\",\"brimob\",\"intelijen\",\"intel\",\n",
    "                 \"alutsista\",\"radar\",\"pesawat\",\"kapal\",\"tank\",\"peluru\",\"senjata\",\"amunisi\",\"peluru\",\"bom\",]"
   ]
  },
  {
   "cell_type": "markdown",
   "metadata": {},
   "source": [
    "## Resource Terms"
   ]
  },
  {
   "cell_type": "code",
   "execution_count": null,
   "metadata": {},
   "outputs": [],
   "source": [
    "resource_terms = [\"sumber\",\"alam\",\"lingkungan\",\"hutan\",\"tambang\",\"pertambangan\",\"minyak\",\"gas\",\"energi\",\n",
    "                  \"listrik\",\"air\",\"pangan\",\"pertanian\",\"perikanan\",\"kelautan\",\"kehutanan\",\"tani\",\"nelayan\",\n",
    "                  \"sda\",\"sdm\",\"sumberdaya\",\"manusia\"]"
   ]
  },
  {
   "cell_type": "markdown",
   "metadata": {},
   "source": [
    "## Ideological Terms"
   ]
  },
  {
   "cell_type": "code",
   "execution_count": null,
   "metadata": {},
   "outputs": [],
   "source": [
    "ideological_terms = [\"ideologi\",\"paham\",\"agama\",\"politik\",\"nasionalisme\",\"komunisme\",\"kapitalisme\",\"sosialisme\",\n",
    "                     \"liberalisme\",\"fasis\",\"fasisme\",\"demokrasi\",\"pancasila\",\"sila\",\"keadilan\",\"kebenaran\",\n",
    "                     \"kebebasan\",\"persamaan\",\"persaudaraan\",\"perdamaian\",\"ketuhanan\",\"kemanusiaan\",\n",
    "                     \"persatuan\",\"kerakyatan\",\"keadilan\",\"kesejahteraan\",\"kebijakan\",\"kebijaksanaan\"\n",
    "                     ,\"prinsip\",\"nilai\",\"moral\",\"etika\",\"etik\",\"masyarakat\",\"bangsa\",\"negara\",\"dunia\",\n",
    "                     \"internasional\",\"global\",\"universal\",\"nasional\",\"regional\",\"lokal\",\"etnosentrisme\",]"
   ]
  },
  {
   "cell_type": "markdown",
   "metadata": {},
   "source": [
    "## Economic Terms"
   ]
  },
  {
   "cell_type": "code",
   "execution_count": null,
   "metadata": {},
   "outputs": [],
   "source": [
    "economic_terms = [\"ekonomi\",\"uang\",\"bisnis\",\"usaha\",\"perusahaan\",\"perdagangan\",\"perindustrian\",\"industri\",\n",
    "                  \"perbankan\",\"keuangan\",\"investasi\",\"modal\",\"saham\",\"pasar\",\"harga\",\"inflasi\",\"deflasi\",\n",
    "                  \"kredit\",\"debit\",\"ekspor\",\"impor\",\"neraca\",\"pajak\",\"pendapatan\",\"belanja\",\"konsumsi\",\n",
    "                  \"tabungan\",\"investasi\",\"produksi\",\"distribusi\",\"konsumsi\",\"konsumen\",\"produsen\",\"distributor\"]"
   ]
  },
  {
   "cell_type": "markdown",
   "metadata": {},
   "source": [
    "## Demographical Terms"
   ]
  },
  {
   "cell_type": "code",
   "execution_count": null,
   "metadata": {},
   "outputs": [],
   "source": [
    "demographic_terms = [\"penduduk\",\"populasi\",\"warga\",\"negara\",\"kota\",\"desa\",\"kampung\",\"perkotaan\",\"pedesaan\",\n",
    "                     \"urban\",\"rural\",\"masyarakat\",\"suku\",\"bangsa\",\"ras\",\"etnis\",\"agama\",\"bahasa\",\"budaya\",\n",
    "                     \"adat\",\"tradisi\",\"kebiasaan\",\"kebudayaan\",\"kearifan\",\"kalangan\",\"golongan\",\"kelas\",\n",
    "                     \"strata\",\"sosial\",\"ekonomi\",\"pendidikan\",\"pekerjaan\",\"profesi\",\"jabatan\",\"pangkat\"]"
   ]
  },
  {
   "cell_type": "markdown",
   "metadata": {},
   "source": [
    "## Geographic Terms"
   ]
  },
  {
   "cell_type": "code",
   "execution_count": null,
   "metadata": {},
   "outputs": [],
   "source": [
    "geographic_terms = [\"provinsi\",\"kabupaten\",\"kota\",\"desa\",\n",
    "                    \"aceh\", \"sumatera\",\"riau\", \"kepulauan\", \"jambi\", \"bangka\",\"belitung\", \n",
    "                    \"bengkulu\", \"lampung\", \"jakarta\", \"jawa\", \"banten\",\"yogyakarta\", \"bali\", \n",
    "                    \"nusa\",\"utara\",\"selatan\" ,\"barat\", \"timur\", \"kalimantan\", \"sulawesi\", \n",
    "                    \"gorontalo\", \"maluku\", \"papua\",\n",
    "                    \"bandung\",\"surabaya\",\"medan\",\"solo\",\"semarang\"\n",
    "]"
   ]
  }
 ],
 "metadata": {
  "kernelspec": {
   "display_name": "Python 3",
   "language": "python",
   "name": "python3"
  },
  "language_info": {
   "codemirror_mode": {
    "name": "ipython",
    "version": 3
   },
   "file_extension": ".py",
   "mimetype": "text/x-python",
   "name": "python",
   "nbconvert_exporter": "python",
   "pygments_lexer": "ipython3",
   "version": "3.12.8"
  }
 },
 "nbformat": 4,
 "nbformat_minor": 2
}
